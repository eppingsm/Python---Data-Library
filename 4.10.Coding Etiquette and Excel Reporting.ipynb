{
 "cells": [
  {
   "cell_type": "markdown",
   "metadata": {},
   "source": [
    "# Hopefully this one works"
   ]
  },
  {
   "cell_type": "code",
   "execution_count": 1,
   "metadata": {},
   "outputs": [],
   "source": [
    "import pandas as pd\n",
    "import numpy as np\n",
    "import os\n",
    "import matplotlib.pyplot as plt\n",
    "import seaborn as sns\n",
    "import scipy"
   ]
  },
  {
   "cell_type": "code",
   "execution_count": 2,
   "metadata": {},
   "outputs": [],
   "source": [
    "df_12 = pd.read_pickle(r'C:\\\\\\\\\\\\\\\\\\\\\\\\\\\\\\\\Users\\\\\\\\\\\\\\\\\\\\\\\\\\\\\\\\eppin\\\\\\\\\\\\\\\\\\\\\\\\\\\\\\\\12-2020 Instacart Basket Analysis\\\\\\\\\\\\\\\\\\\\\\\\\\\\\\\\02 Data\\\\\\\\\\\\\\\\\\\\\\\\\\\\\\\\Original Data\\\\\\\\\\\\\\\\\\\\\\\\\\\\\\\\df_11.pkl')"
   ]
  },
  {
   "cell_type": "code",
   "execution_count": 3,
   "metadata": {},
   "outputs": [
    {
     "data": {
      "text/plain": [
       "(32404859, 29)"
      ]
     },
     "execution_count": 3,
     "metadata": {},
     "output_type": "execute_result"
    }
   ],
   "source": [
    "df_12.shape"
   ]
  },
  {
   "cell_type": "code",
   "execution_count": 4,
   "metadata": {},
   "outputs": [
    {
     "data": {
      "text/html": [
       "<div>\n",
       "<style scoped>\n",
       "    .dataframe tbody tr th:only-of-type {\n",
       "        vertical-align: middle;\n",
       "    }\n",
       "\n",
       "    .dataframe tbody tr th {\n",
       "        vertical-align: top;\n",
       "    }\n",
       "\n",
       "    .dataframe thead th {\n",
       "        text-align: right;\n",
       "    }\n",
       "</style>\n",
       "<table border=\"1\" class=\"dataframe\">\n",
       "  <thead>\n",
       "    <tr style=\"text-align: right;\">\n",
       "      <th></th>\n",
       "      <th>order_id</th>\n",
       "      <th>user_id</th>\n",
       "      <th>Order_Day_Of_Week</th>\n",
       "      <th>order_hour_of_day</th>\n",
       "      <th>days_since_prior_order</th>\n",
       "      <th>Unnamed: 0</th>\n",
       "      <th>product_name</th>\n",
       "      <th>department_id</th>\n",
       "      <th>prices</th>\n",
       "      <th>_merge</th>\n",
       "      <th>...</th>\n",
       "      <th>Frequency_label</th>\n",
       "      <th>First Name</th>\n",
       "      <th>Surname</th>\n",
       "      <th>Gender</th>\n",
       "      <th>STATE</th>\n",
       "      <th>Age</th>\n",
       "      <th>date_joined</th>\n",
       "      <th>Number_of_Dependants</th>\n",
       "      <th>Marital_Status</th>\n",
       "      <th>income</th>\n",
       "    </tr>\n",
       "  </thead>\n",
       "  <tbody>\n",
       "    <tr>\n",
       "      <th>0</th>\n",
       "      <td>2539329</td>\n",
       "      <td>1</td>\n",
       "      <td>2</td>\n",
       "      <td>8</td>\n",
       "      <td>NaN</td>\n",
       "      <td>195</td>\n",
       "      <td>Soda</td>\n",
       "      <td>7</td>\n",
       "      <td>9.0</td>\n",
       "      <td>both</td>\n",
       "      <td>...</td>\n",
       "      <td>Non_frequent_customer</td>\n",
       "      <td>Linda</td>\n",
       "      <td>Nguyen</td>\n",
       "      <td>Female</td>\n",
       "      <td>Alabama</td>\n",
       "      <td>31</td>\n",
       "      <td>2/17/2019</td>\n",
       "      <td>3</td>\n",
       "      <td>married</td>\n",
       "      <td>40423</td>\n",
       "    </tr>\n",
       "    <tr>\n",
       "      <th>1</th>\n",
       "      <td>2398795</td>\n",
       "      <td>1</td>\n",
       "      <td>3</td>\n",
       "      <td>7</td>\n",
       "      <td>15.0</td>\n",
       "      <td>195</td>\n",
       "      <td>Soda</td>\n",
       "      <td>7</td>\n",
       "      <td>9.0</td>\n",
       "      <td>both</td>\n",
       "      <td>...</td>\n",
       "      <td>Non_frequent_customer</td>\n",
       "      <td>Linda</td>\n",
       "      <td>Nguyen</td>\n",
       "      <td>Female</td>\n",
       "      <td>Alabama</td>\n",
       "      <td>31</td>\n",
       "      <td>2/17/2019</td>\n",
       "      <td>3</td>\n",
       "      <td>married</td>\n",
       "      <td>40423</td>\n",
       "    </tr>\n",
       "    <tr>\n",
       "      <th>2</th>\n",
       "      <td>473747</td>\n",
       "      <td>1</td>\n",
       "      <td>3</td>\n",
       "      <td>12</td>\n",
       "      <td>21.0</td>\n",
       "      <td>195</td>\n",
       "      <td>Soda</td>\n",
       "      <td>7</td>\n",
       "      <td>9.0</td>\n",
       "      <td>both</td>\n",
       "      <td>...</td>\n",
       "      <td>Non_frequent_customer</td>\n",
       "      <td>Linda</td>\n",
       "      <td>Nguyen</td>\n",
       "      <td>Female</td>\n",
       "      <td>Alabama</td>\n",
       "      <td>31</td>\n",
       "      <td>2/17/2019</td>\n",
       "      <td>3</td>\n",
       "      <td>married</td>\n",
       "      <td>40423</td>\n",
       "    </tr>\n",
       "    <tr>\n",
       "      <th>3</th>\n",
       "      <td>2254736</td>\n",
       "      <td>1</td>\n",
       "      <td>4</td>\n",
       "      <td>7</td>\n",
       "      <td>29.0</td>\n",
       "      <td>195</td>\n",
       "      <td>Soda</td>\n",
       "      <td>7</td>\n",
       "      <td>9.0</td>\n",
       "      <td>both</td>\n",
       "      <td>...</td>\n",
       "      <td>Non_frequent_customer</td>\n",
       "      <td>Linda</td>\n",
       "      <td>Nguyen</td>\n",
       "      <td>Female</td>\n",
       "      <td>Alabama</td>\n",
       "      <td>31</td>\n",
       "      <td>2/17/2019</td>\n",
       "      <td>3</td>\n",
       "      <td>married</td>\n",
       "      <td>40423</td>\n",
       "    </tr>\n",
       "    <tr>\n",
       "      <th>4</th>\n",
       "      <td>431534</td>\n",
       "      <td>1</td>\n",
       "      <td>4</td>\n",
       "      <td>15</td>\n",
       "      <td>28.0</td>\n",
       "      <td>195</td>\n",
       "      <td>Soda</td>\n",
       "      <td>7</td>\n",
       "      <td>9.0</td>\n",
       "      <td>both</td>\n",
       "      <td>...</td>\n",
       "      <td>Non_frequent_customer</td>\n",
       "      <td>Linda</td>\n",
       "      <td>Nguyen</td>\n",
       "      <td>Female</td>\n",
       "      <td>Alabama</td>\n",
       "      <td>31</td>\n",
       "      <td>2/17/2019</td>\n",
       "      <td>3</td>\n",
       "      <td>married</td>\n",
       "      <td>40423</td>\n",
       "    </tr>\n",
       "  </tbody>\n",
       "</table>\n",
       "<p>5 rows × 29 columns</p>\n",
       "</div>"
      ],
      "text/plain": [
       "   order_id  user_id  Order_Day_Of_Week  order_hour_of_day  \\\n",
       "0   2539329        1                  2                  8   \n",
       "1   2398795        1                  3                  7   \n",
       "2    473747        1                  3                 12   \n",
       "3   2254736        1                  4                  7   \n",
       "4    431534        1                  4                 15   \n",
       "\n",
       "   days_since_prior_order  Unnamed: 0 product_name  department_id  prices  \\\n",
       "0                     NaN         195         Soda              7     9.0   \n",
       "1                    15.0         195         Soda              7     9.0   \n",
       "2                    21.0         195         Soda              7     9.0   \n",
       "3                    29.0         195         Soda              7     9.0   \n",
       "4                    28.0         195         Soda              7     9.0   \n",
       "\n",
       "  _merge  ...        Frequency_label First Name Surname  Gender    STATE Age  \\\n",
       "0   both  ...  Non_frequent_customer      Linda  Nguyen  Female  Alabama  31   \n",
       "1   both  ...  Non_frequent_customer      Linda  Nguyen  Female  Alabama  31   \n",
       "2   both  ...  Non_frequent_customer      Linda  Nguyen  Female  Alabama  31   \n",
       "3   both  ...  Non_frequent_customer      Linda  Nguyen  Female  Alabama  31   \n",
       "4   both  ...  Non_frequent_customer      Linda  Nguyen  Female  Alabama  31   \n",
       "\n",
       "   date_joined Number_of_Dependants  Marital_Status income  \n",
       "0    2/17/2019                    3         married  40423  \n",
       "1    2/17/2019                    3         married  40423  \n",
       "2    2/17/2019                    3         married  40423  \n",
       "3    2/17/2019                    3         married  40423  \n",
       "4    2/17/2019                    3         married  40423  \n",
       "\n",
       "[5 rows x 29 columns]"
      ]
     },
     "execution_count": 4,
     "metadata": {},
     "output_type": "execute_result"
    }
   ],
   "source": [
    "df_12.head()"
   ]
  },
  {
   "cell_type": "code",
   "execution_count": 5,
   "metadata": {},
   "outputs": [],
   "source": [
    "df_12 = df_12.drop(['Order_Day_Of_Week','price_range_loc','days_since_prior_order','product_name','_merge','busiest_day','busiest_days','busiest_period','max_order','loyalty_flag','Frequency_label','Surname','Frequency_of_purchase','date_joined','First Name'], axis=1)"
   ]
  },
  {
   "cell_type": "code",
   "execution_count": 6,
   "metadata": {},
   "outputs": [],
   "source": [
    "#the non needed cells have been removed"
   ]
  },
  {
   "cell_type": "code",
   "execution_count": 7,
   "metadata": {},
   "outputs": [],
   "source": [
    "df_12.loc[df_12['STATE'].isin(['Maine','New Hampshire','Vermont','Massachusetts','Rhode Island','Connecticut']),'Region']='Northeast'"
   ]
  },
  {
   "cell_type": "code",
   "execution_count": 8,
   "metadata": {},
   "outputs": [],
   "source": [
    "df_12.loc[df_12['STATE'].isin(['Wisconsin','Michigan','Illinois','Indiana','Ohio','North Dakota','South Dakota','Nebraska','Kansas','Minnesota','Iowa','Missouri']),'Region']='Midwest'"
   ]
  },
  {
   "cell_type": "code",
   "execution_count": 9,
   "metadata": {},
   "outputs": [],
   "source": [
    "df_12.loc[df_12['STATE'].isin(['Delaware','Maryland','District of Columbia','Virginia','West Virginia','North Carolina','South Carolina','Georgia','Florida','Kentucky','Tennessee','Mississippi','Alabama','Oklahoma','Texas','Arkansas','Louisiana']),'Region']='South'"
   ]
  },
  {
   "cell_type": "code",
   "execution_count": 10,
   "metadata": {},
   "outputs": [],
   "source": [
    "df_12.loc[df_12['STATE'].isin(['Idaho','Montana','Wyoming','Nevada','Utah','Colorado','Arizona','New Mexico']),'Region']='West'"
   ]
  },
  {
   "cell_type": "code",
   "execution_count": 11,
   "metadata": {},
   "outputs": [],
   "source": [
    "df_12.loc[df_12['STATE'].isin(['Alaska','Washington','Oregon','California','Hawaii']),'Region']='Pacific'"
   ]
  },
  {
   "cell_type": "code",
   "execution_count": 12,
   "metadata": {},
   "outputs": [
    {
     "data": {
      "text/plain": [
       "<AxesSubplot:>"
      ]
     },
     "execution_count": 12,
     "metadata": {},
     "output_type": "execute_result"
    },
    {
     "data": {
      "image/png": "[encoded data removed]",
      "text/plain": [
       "<Figure size 432x288 with 1 Axes>"
      ]
     },
     "metadata": {
      "needs_background": "light"
     },
     "output_type": "display_data"
    }
   ],
   "source": [
    "#Bar Chart\n",
    "df_12['Region'].value_counts().plot.bar(color=['teal'])"
   ]
  },
  {
   "cell_type": "code",
   "execution_count": 13,
   "metadata": {},
   "outputs": [
    {
     "name": "stdout",
     "output_type": "stream",
     "text": [
      "      Region     prices\n",
      "0    Midwest  12.715483\n",
      "1  Northeast  12.109287\n",
      "2    Pacific  11.259761\n",
      "3      South  12.195577\n",
      "4       West  11.357781\n"
     ]
    }
   ],
   "source": [
    "#find average and sum of each reason by using the group function\n",
    "region_avg = df_12.groupby(['Region'],as_index=False).prices.mean()\n",
    "print(region_avg)"
   ]
  },
  {
   "cell_type": "code",
   "execution_count": 14,
   "metadata": {},
   "outputs": [],
   "source": [
    "df_12['Counts'] = df_12.groupby(['user_id'])['user_id'].transform('count')"
   ]
  },
  {
   "cell_type": "code",
   "execution_count": 15,
   "metadata": {},
   "outputs": [],
   "source": [
    "#figure out customer include and exclude"
   ]
  },
  {
   "cell_type": "code",
   "execution_count": 16,
   "metadata": {},
   "outputs": [],
   "source": [
    "df_12.loc[(df_12['Counts']<=5),'Customer_Exclusion'] = 'exclude'"
   ]
  },
  {
   "cell_type": "code",
   "execution_count": 17,
   "metadata": {},
   "outputs": [],
   "source": [
    "df_12.loc[(df_12['Counts']>5),'Customer_Exclusion'] = 'include'"
   ]
  },
  {
   "cell_type": "code",
   "execution_count": 18,
   "metadata": {},
   "outputs": [],
   "source": [
    "placeholder = df_12.groupby(df_12.Customer_Exclusion)"
   ]
  },
  {
   "cell_type": "code",
   "execution_count": 19,
   "metadata": {},
   "outputs": [],
   "source": [
    "df_13 = placeholder.get_group('include')"
   ]
  },
  {
   "cell_type": "code",
   "execution_count": 31,
   "metadata": {},
   "outputs": [
    {
     "data": {
      "text/html": [
       "<div>\n",
       "<style scoped>\n",
       "    .dataframe tbody tr th:only-of-type {\n",
       "        vertical-align: middle;\n",
       "    }\n",
       "\n",
       "    .dataframe tbody tr th {\n",
       "        vertical-align: top;\n",
       "    }\n",
       "\n",
       "    .dataframe thead th {\n",
       "        text-align: right;\n",
       "    }\n",
       "</style>\n",
       "<table border=\"1\" class=\"dataframe\">\n",
       "  <thead>\n",
       "    <tr style=\"text-align: right;\">\n",
       "      <th></th>\n",
       "      <th>order_id</th>\n",
       "      <th>user_id</th>\n",
       "      <th>order_hour_of_day</th>\n",
       "      <th>Unnamed: 0</th>\n",
       "      <th>department_id</th>\n",
       "      <th>prices</th>\n",
       "      <th>average_spending</th>\n",
       "      <th>Spending_Flag</th>\n",
       "      <th>Gender</th>\n",
       "      <th>STATE</th>\n",
       "      <th>Age</th>\n",
       "      <th>Number_of_Dependants</th>\n",
       "      <th>Marital_Status</th>\n",
       "      <th>income</th>\n",
       "      <th>Region</th>\n",
       "      <th>Counts</th>\n",
       "      <th>Customer_Exclusion</th>\n",
       "      <th>Parent</th>\n",
       "    </tr>\n",
       "  </thead>\n",
       "  <tbody>\n",
       "    <tr>\n",
       "      <th>0</th>\n",
       "      <td>2539329</td>\n",
       "      <td>1</td>\n",
       "      <td>8</td>\n",
       "      <td>195</td>\n",
       "      <td>7</td>\n",
       "      <td>9.0</td>\n",
       "      <td>6.367797</td>\n",
       "      <td>low_spender</td>\n",
       "      <td>Female</td>\n",
       "      <td>Alabama</td>\n",
       "      <td>31</td>\n",
       "      <td>3</td>\n",
       "      <td>married</td>\n",
       "      <td>40423</td>\n",
       "      <td>South</td>\n",
       "      <td>59</td>\n",
       "      <td>include</td>\n",
       "      <td>yes</td>\n",
       "    </tr>\n",
       "    <tr>\n",
       "      <th>1</th>\n",
       "      <td>2398795</td>\n",
       "      <td>1</td>\n",
       "      <td>7</td>\n",
       "      <td>195</td>\n",
       "      <td>7</td>\n",
       "      <td>9.0</td>\n",
       "      <td>6.367797</td>\n",
       "      <td>low_spender</td>\n",
       "      <td>Female</td>\n",
       "      <td>Alabama</td>\n",
       "      <td>31</td>\n",
       "      <td>3</td>\n",
       "      <td>married</td>\n",
       "      <td>40423</td>\n",
       "      <td>South</td>\n",
       "      <td>59</td>\n",
       "      <td>include</td>\n",
       "      <td>yes</td>\n",
       "    </tr>\n",
       "    <tr>\n",
       "      <th>2</th>\n",
       "      <td>473747</td>\n",
       "      <td>1</td>\n",
       "      <td>12</td>\n",
       "      <td>195</td>\n",
       "      <td>7</td>\n",
       "      <td>9.0</td>\n",
       "      <td>6.367797</td>\n",
       "      <td>low_spender</td>\n",
       "      <td>Female</td>\n",
       "      <td>Alabama</td>\n",
       "      <td>31</td>\n",
       "      <td>3</td>\n",
       "      <td>married</td>\n",
       "      <td>40423</td>\n",
       "      <td>South</td>\n",
       "      <td>59</td>\n",
       "      <td>include</td>\n",
       "      <td>yes</td>\n",
       "    </tr>\n",
       "    <tr>\n",
       "      <th>3</th>\n",
       "      <td>2254736</td>\n",
       "      <td>1</td>\n",
       "      <td>7</td>\n",
       "      <td>195</td>\n",
       "      <td>7</td>\n",
       "      <td>9.0</td>\n",
       "      <td>6.367797</td>\n",
       "      <td>low_spender</td>\n",
       "      <td>Female</td>\n",
       "      <td>Alabama</td>\n",
       "      <td>31</td>\n",
       "      <td>3</td>\n",
       "      <td>married</td>\n",
       "      <td>40423</td>\n",
       "      <td>South</td>\n",
       "      <td>59</td>\n",
       "      <td>include</td>\n",
       "      <td>yes</td>\n",
       "    </tr>\n",
       "    <tr>\n",
       "      <th>4</th>\n",
       "      <td>431534</td>\n",
       "      <td>1</td>\n",
       "      <td>15</td>\n",
       "      <td>195</td>\n",
       "      <td>7</td>\n",
       "      <td>9.0</td>\n",
       "      <td>6.367797</td>\n",
       "      <td>low_spender</td>\n",
       "      <td>Female</td>\n",
       "      <td>Alabama</td>\n",
       "      <td>31</td>\n",
       "      <td>3</td>\n",
       "      <td>married</td>\n",
       "      <td>40423</td>\n",
       "      <td>South</td>\n",
       "      <td>59</td>\n",
       "      <td>include</td>\n",
       "      <td>yes</td>\n",
       "    </tr>\n",
       "  </tbody>\n",
       "</table>\n",
       "</div>"
      ],
      "text/plain": [
       "   order_id  user_id  order_hour_of_day  Unnamed: 0  department_id  prices  \\\n",
       "0   2539329        1                  8         195              7     9.0   \n",
       "1   2398795        1                  7         195              7     9.0   \n",
       "2    473747        1                 12         195              7     9.0   \n",
       "3   2254736        1                  7         195              7     9.0   \n",
       "4    431534        1                 15         195              7     9.0   \n",
       "\n",
       "   average_spending Spending_Flag  Gender    STATE  Age  Number_of_Dependants  \\\n",
       "0          6.367797   low_spender  Female  Alabama   31                     3   \n",
       "1          6.367797   low_spender  Female  Alabama   31                     3   \n",
       "2          6.367797   low_spender  Female  Alabama   31                     3   \n",
       "3          6.367797   low_spender  Female  Alabama   31                     3   \n",
       "4          6.367797   low_spender  Female  Alabama   31                     3   \n",
       "\n",
       "  Marital_Status  income Region  Counts Customer_Exclusion Parent  \n",
       "0        married   40423  South      59            include    yes  \n",
       "1        married   40423  South      59            include    yes  \n",
       "2        married   40423  South      59            include    yes  \n",
       "3        married   40423  South      59            include    yes  \n",
       "4        married   40423  South      59            include    yes  "
      ]
     },
     "execution_count": 31,
     "metadata": {},
     "output_type": "execute_result"
    }
   ],
   "source": [
    "df_13.head()"
   ]
  },
  {
   "cell_type": "code",
   "execution_count": 35,
   "metadata": {},
   "outputs": [
    {
     "data": {
      "text/plain": [
       "yes    24302661\n",
       "no      8095929\n",
       "Name: Parent, dtype: int64"
      ]
     },
     "execution_count": 35,
     "metadata": {},
     "output_type": "execute_result"
    }
   ],
   "source": [
    "parent_counts = df_13['Parent'].value_counts()\n",
    "parent_counts"
   ]
  },
  {
   "cell_type": "code",
   "execution_count": 38,
   "metadata": {},
   "outputs": [
    {
     "data": {
      "text/plain": [
       "married                             22752378\n",
       "single                               5324657\n",
       "divorced/widowed                     2771272\n",
       "living with parents and siblings     1550283\n",
       "Name: Marital_Status, dtype: int64"
      ]
     },
     "execution_count": 38,
     "metadata": {},
     "output_type": "execute_result"
    }
   ],
   "source": [
    "Marital_Status_count = df_13['Marital_Status'].value_counts()\n",
    "Marital_Status_count"
   ]
  },
  {
   "cell_type": "code",
   "execution_count": 22,
   "metadata": {},
   "outputs": [],
   "source": [
    "df_13.to_pickle(r'C:\\\\\\\\\\\\\\\\\\\\\\\\\\\\\\\\Users\\\\\\\\\\\\\\\\\\\\\\\\\\\\\\\\eppin\\\\\\\\\\\\\\\\\\\\\\\\\\\\\\\\12-2020 Instacart Basket Analysis\\\\\\\\\\\\\\\\\\\\\\\\\\\\\\\\02 Data\\\\\\\\\\\\\\\\\\\\\\\\\\\\\\\\Original Data\\\\\\\\\\\\\\\\\\\\\\\\\\\\\\\\df_13.pkl')"
   ]
  },
  {
   "cell_type": "markdown",
   "metadata": {},
   "source": [
    "CHECKPOINT!\n",
    "Continue working with df_13 - but it has been exported to pickle format should you need to start over"
   ]
  },
  {
   "cell_type": "code",
   "execution_count": 25,
   "metadata": {},
   "outputs": [],
   "source": [
    "df_14 = pd.read_pickle(r'C:\\\\\\\\\\\\\\\\\\\\\\\\\\\\\\\\Users\\\\\\\\\\\\\\\\\\\\\\\\\\\\\\\\eppin\\\\\\\\\\\\\\\\\\\\\\\\\\\\\\\\12-2020 Instacart Basket Analysis\\\\\\\\\\\\\\\\\\\\\\\\\\\\\\\\02 Data\\\\\\\\\\\\\\\\\\\\\\\\\\\\\\\\Original Data\\\\\\\\\\\\\\\\\\\\\\\\\\\\\\\\df_13.pkl')"
   ]
  },
  {
   "cell_type": "code",
   "execution_count": 26,
   "metadata": {},
   "outputs": [],
   "source": [
    "#df_13 - create a parent flag yes/no\n",
    "df_14.loc[(df_14['Number_of_Dependants']>0),'Parent'] = 'yes'"
   ]
  },
  {
   "cell_type": "code",
   "execution_count": 27,
   "metadata": {},
   "outputs": [],
   "source": [
    "#df_13 - create a parent flag yes/no\n",
    "df_14.loc[(df_14['Number_of_Dependants']<1),'Parent'] = 'no'"
   ]
  },
  {
   "cell_type": "code",
   "execution_count": 43,
   "metadata": {},
   "outputs": [
    {
     "name": "stdout",
     "output_type": "stream",
     "text": [
      "       Region Parent                    Marital_Status     prices\n",
      "0     Midwest     no                  divorced/widowed   9.784448\n",
      "1     Midwest     no                            single  14.813399\n",
      "2     Midwest    yes  living with parents and siblings   9.196079\n",
      "3     Midwest    yes                           married  12.800087\n",
      "4   Northeast     no                  divorced/widowed  14.432419\n",
      "5   Northeast     no                            single  11.772311\n",
      "6   Northeast    yes  living with parents and siblings   9.213616\n",
      "7   Northeast    yes                           married  12.083576\n",
      "8     Pacific     no                  divorced/widowed  10.016144\n",
      "9     Pacific     no                            single  10.135418\n",
      "10    Pacific    yes  living with parents and siblings   9.126371\n",
      "11    Pacific    yes                           married  11.815248\n",
      "12      South     no                  divorced/widowed  11.920710\n",
      "13      South     no                            single  13.166381\n",
      "14      South    yes  living with parents and siblings  12.468685\n",
      "15      South    yes                           married  11.982701\n",
      "16       West     no                  divorced/widowed  12.409677\n",
      "17       West     no                            single  10.294269\n",
      "18       West    yes  living with parents and siblings  12.864308\n",
      "19       West    yes                           married  11.385478\n"
     ]
    }
   ],
   "source": [
    "Profile_Averages = df_14.groupby(['Region','Parent','Marital_Status'],as_index=False).prices.mean()\n",
    "print(Profile_Averages)"
   ]
  },
  {
   "cell_type": "code",
   "execution_count": 44,
   "metadata": {},
   "outputs": [
    {
     "name": "stdout",
     "output_type": "stream",
     "text": [
      "       Region Parent                    Marital_Status     prices\n",
      "0     Midwest     no                  divorced/widowed   9.784448\n",
      "1     Midwest     no                            single  14.813399\n",
      "2     Midwest    yes  living with parents and siblings   9.196079\n",
      "3     Midwest    yes                           married  12.800087\n",
      "4   Northeast     no                  divorced/widowed  14.432419\n",
      "5   Northeast     no                            single  11.772311\n",
      "6   Northeast    yes  living with parents and siblings   9.213616\n",
      "7   Northeast    yes                           married  12.083576\n",
      "8     Pacific     no                  divorced/widowed  10.016144\n",
      "9     Pacific     no                            single  10.135418\n",
      "10    Pacific    yes  living with parents and siblings   9.126371\n",
      "11    Pacific    yes                           married  11.815248\n",
      "12      South     no                  divorced/widowed  11.920710\n",
      "13      South     no                            single  13.166381\n",
      "14      South    yes  living with parents and siblings  12.468685\n",
      "15      South    yes                           married  11.982701\n",
      "16       West     no                  divorced/widowed  12.409677\n",
      "17       West     no                            single  10.294269\n",
      "18       West    yes  living with parents and siblings  12.864308\n",
      "19       West    yes                           married  11.385478\n"
     ]
    }
   ],
   "source": [
    "Profile_Sum = df_14.groupby(['Region','Parent','Marital_Status'],as_index=False).prices.sum()\n",
    "print(Profile_Averages)"
   ]
  },
  {
   "cell_type": "code",
   "execution_count": 45,
   "metadata": {},
   "outputs": [],
   "source": [
    "Profile_Sum.to_csv(r'C:\\\\\\\\\\\\\\\\\\\\\\\\\\\\\\\\Users\\\\\\\\\\\\\\\\\\\\\\\\\\\\\\\\eppin\\\\\\\\\\\\\\\\\\\\\\\\\\\\\\\\12-2020 Instacart Basket Analysis\\\\\\\\\\\\\\\\\\\\\\\\\\\\\\\\02 Data\\\\\\\\\\\\\\\\\\\\\\\\\\\\\\\\Original Data\\\\\\\\\\\\\\\\\\\\\\\\\\\\\\\\Profile_Sum.csv')"
   ]
  },
  {
   "cell_type": "code",
   "execution_count": 46,
   "metadata": {},
   "outputs": [],
   "source": [
    "Profile_Averages.to_csv(r'C:\\\\\\\\\\\\\\\\\\\\\\\\\\\\\\\\Users\\\\\\\\\\\\\\\\\\\\\\\\\\\\\\\\eppin\\\\\\\\\\\\\\\\\\\\\\\\\\\\\\\\12-2020 Instacart Basket Analysis\\\\\\\\\\\\\\\\\\\\\\\\\\\\\\\\02 Data\\\\\\\\\\\\\\\\\\\\\\\\\\\\\\\\Original Data\\\\\\\\\\\\\\\\\\\\\\\\\\\\\\\\Profile_Averages.csv')"
   ]
  },
  {
   "cell_type": "code",
   "execution_count": 47,
   "metadata": {
    "scrolled": true
   },
   "outputs": [
    {
     "name": "stdout",
     "output_type": "stream",
     "text": [
      "       Region Parent                    Marital_Status     prices\n",
      "0     Midwest     no                  divorced/widowed   9.784448\n",
      "1     Midwest     no                            single  14.813399\n",
      "2     Midwest    yes  living with parents and siblings   9.196079\n",
      "3     Midwest    yes                           married  12.800087\n",
      "4   Northeast     no                  divorced/widowed  14.432419\n",
      "5   Northeast     no                            single  11.772311\n",
      "6   Northeast    yes  living with parents and siblings   9.213616\n",
      "7   Northeast    yes                           married  12.083576\n",
      "8     Pacific     no                  divorced/widowed  10.016144\n",
      "9     Pacific     no                            single  10.135418\n",
      "10    Pacific    yes  living with parents and siblings   9.126371\n",
      "11    Pacific    yes                           married  11.815248\n",
      "12      South     no                  divorced/widowed  11.920710\n",
      "13      South     no                            single  13.166381\n",
      "14      South    yes  living with parents and siblings  12.468685\n",
      "15      South    yes                           married  11.982701\n",
      "16       West     no                  divorced/widowed  12.409677\n",
      "17       West     no                            single  10.294269\n",
      "18       West    yes  living with parents and siblings  12.864308\n",
      "19       West    yes                           married  11.385478\n"
     ]
    }
   ],
   "source": [
    "Region_Sum = df_14.groupby(['Region','Gender'],as_index=False).prices.sum()\n",
    "print(Profile_Averages)"
   ]
  },
  {
   "cell_type": "code",
   "execution_count": 48,
   "metadata": {},
   "outputs": [],
   "source": [
    "Region_Sum.to_csv(r'C:\\\\\\\\\\\\\\\\\\\\\\\\\\\\\\\\Users\\\\\\\\\\\\\\\\\\\\\\\\\\\\\\\\eppin\\\\\\\\\\\\\\\\\\\\\\\\\\\\\\\\12-2020 Instacart Basket Analysis\\\\\\\\\\\\\\\\\\\\\\\\\\\\\\\\02 Data\\\\\\\\\\\\\\\\\\\\\\\\\\\\\\\\Original Data\\\\\\\\\\\\\\\\\\\\\\\\\\\\\\\\Region_Sum.csv')"
   ]
  },
  {
   "cell_type": "code",
   "execution_count": 61,
   "metadata": {},
   "outputs": [
    {
     "data": {
      "text/plain": [
       "order_id                3209792\n",
       "user_id                  204733\n",
       "order_hour_of_day            24\n",
       "Unnamed: 0                49661\n",
       "department_id                21\n",
       "prices                      242\n",
       "average_spending         168339\n",
       "Spending_Flag                 2\n",
       "Gender                        2\n",
       "STATE                        51\n",
       "Age                          64\n",
       "Number_of_Dependants          4\n",
       "Marital_Status                4\n",
       "income                   107695\n",
       "Region                        5\n",
       "Counts                     1700\n",
       "Customer_Exclusion            1\n",
       "Parent                        2\n",
       "dtype: int64"
      ]
     },
     "execution_count": 61,
     "metadata": {},
     "output_type": "execute_result"
    }
   ],
   "source": [
    "counts = df_14.nunique()\n",
    "counts"
   ]
  },
  {
   "cell_type": "code",
   "execution_count": null,
   "metadata": {},
   "outputs": [],
   "source": []
  }
 ],
 "metadata": {
  "kernelspec": {
   "display_name": "Python 3",
   "language": "python",
   "name": "python3"
  },
  "language_info": {
   "codemirror_mode": {
    "name": "ipython",
    "version": 3
   },
   "file_extension": ".py",
   "mimetype": "text/x-python",
   "name": "python",
   "nbconvert_exporter": "python",
   "pygments_lexer": "ipython3",
   "version": "3.8.5"
  }
 },
 "nbformat": 4,
 "nbformat_minor": 4
}
